{
 "cells": [
  {
   "cell_type": "markdown",
   "metadata": {},
   "source": [
    "# Lab Session 1: Environment setup and notebook experimentation\n",
    "\n",
    "### Instructions\n",
    "\n",
    "Setup both the lab environment and Google Colaboratory to run the provided notebooks. Ensure that you can enable GPU acceleration on Colab.\n",
    "\n",
    "Step through the code. Inspect the printed output / consult documentation / discuss with neighbours / TAs in lab to ensure that you understand what each step is doing, and experiment with any modifications you might think of.\n",
    "\n",
    "#### Lab setup instructions\n",
    "\n",
    "We recommend that you work on the Ubuntu workstations in the lab. We cannot guarantee compatibility with Windows machines and cannot promise support if you choose to work on a Windows machine.\n",
    "\n",
    "Once logged in, run the following commands in the terminal to set up a Python environment with all the packages you will need.\n",
    "\n",
    "    export PYTHONUSERBASE=/vol/lab/ml/pypi\n",
    "    export PATH=/vol/lab/ml/pypi/bin:$PATH\n",
    "\n",
    "Add the above lines to your `.bashrc` to have these enviroment variables set automatically each time you open your bash terminal on a lab machine.\n",
    "\n",
    "Run `jupyter-notebook` in the directory in which you've cloned the tutorial repo to launch Jupyter notebook in your default browser.\n",
    "\n",
    "This may take a while to run the first time while the packages are cached on your local machine.\n",
    "\n",
    "DO NOT attempt to create a virtualenv in your home folder as you will likely exceed your file quota.\n",
    "\n",
    "#### Google Colaboratory\n",
    "\n",
    "Alternatively, you can use Google Colaboratory, which provides free GPU resources.\n",
    "\n",
    "You will need a Google account to do so. Simply log in to your account and go to the following page: https://colab.research.google.com\n",
    "\n",
    "You can upload existing Jupyter notebooks to Colab using the `Upload` tab in the window visible when Colab launches at the above URL.\n",
    "\n",
    "***To enable GPU acceleration: Runtime -> Change runtime type -> Select GPU as hardware accelerator.***\n",
    "\n",
    "If you would like to install packages on Colab you can run arbitrary bash commands in the Colab environment by prefixing the command with `!`. For example:\n",
    "\n",
    "    !pip install <package_name>\n",
    "    \n",
    "All the packages we will be using in this tutorial are preinstalled so you do not need to install anything today.\n",
    "\n",
    "NOTE: Colab sessions are not persisent and are also terminated after a few hours.\n",
    "\n"
   ]
  }
 ],
 "metadata": {
  "kernelspec": {
   "display_name": "Python 3",
   "language": "python",
   "name": "python3"
  },
  "language_info": {
   "codemirror_mode": {
    "name": "ipython",
    "version": 3
   },
   "file_extension": ".py",
   "mimetype": "text/x-python",
   "name": "python",
   "nbconvert_exporter": "python",
   "pygments_lexer": "ipython3",
   "version": "3.6.9"
  }
 },
 "nbformat": 4,
 "nbformat_minor": 2
}
