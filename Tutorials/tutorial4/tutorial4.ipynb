{
 "cells": [
  {
   "cell_type": "markdown",
   "metadata": {
    "colab_type": "text",
    "id": "j4v_Lauqvr65"
   },
   "source": [
    "# CO460 - Deep Learning - Tutorial 4"
   ]
  },
  {
   "cell_type": "markdown",
   "metadata": {
    "colab_type": "text",
    "id": "BpAXuouxvr68"
   },
   "source": [
    "## Introduction\n",
    "\n",
    "Tutorial:\n",
    "- Step-by-step implementation of an AE\n",
    "- Guidelines for the VAE part of your coursework"
   ]
  },
  {
   "cell_type": "code",
   "execution_count": 1,
   "metadata": {
    "colab": {},
    "colab_type": "code",
    "id": "b0d2-vwIvr69",
    "scrolled": true
   },
   "outputs": [],
   "source": [
    "import os\n",
    "import torch\n",
    "import torch.nn as nn\n",
    "import torch.optim as optim\n",
    "from torch.utils.data import DataLoader\n",
    "from torchvision import datasets, transforms\n",
    "from torchvision.utils import save_image, make_grid\n",
    "import torch.nn.functional as F\n",
    "import matplotlib.pyplot as plt\n",
    "import numpy as np\n",
    "\n",
    "if not os.path.exists('./tutorial_AE'):\n",
    "    os.mkdir('./tutorial_AE')\n",
    "    \n",
    "def show(img):\n",
    "    if torch.cuda.is_available():\n",
    "        img = img.cpu()\n",
    "    npimg = img.numpy()\n",
    "    plt.imshow(np.transpose(npimg, (1,2,0)))"
   ]
  },
  {
   "cell_type": "markdown",
   "metadata": {
    "colab_type": "text",
    "id": "N7LbfID6vr7A"
   },
   "source": [
    "### Device selection"
   ]
  },
  {
   "cell_type": "code",
   "execution_count": 2,
   "metadata": {
    "colab": {
     "base_uri": "https://localhost:8080/",
     "height": 34
    },
    "colab_type": "code",
    "id": "X26_0DOrvr7B",
    "outputId": "5725c526-c436-4dea-a162-3c7606e5c5e4"
   },
   "outputs": [
    {
     "name": "stdout",
     "output_type": "stream",
     "text": [
      "cuda:0\n"
     ]
    }
   ],
   "source": [
    "GPU = True\n",
    "device_idx = 0\n",
    "if GPU:\n",
    "    device = torch.device(\"cuda:\" + str(device_idx) if torch.cuda.is_available() else \"cpu\")\n",
    "else:\n",
    "    device = torch.device(\"cpu\")\n",
    "print(device)"
   ]
  },
  {
   "cell_type": "markdown",
   "metadata": {
    "colab_type": "text",
    "id": "GjbVodoIvr7G"
   },
   "source": [
    "### Reproducibility"
   ]
  },
  {
   "cell_type": "code",
   "execution_count": 3,
   "metadata": {
    "colab": {
     "base_uri": "https://localhost:8080/",
     "height": 34
    },
    "colab_type": "code",
    "id": "CP5qywh_vr7I",
    "outputId": "692fc53b-7907-4065-b555-46b5cbfb6bc0"
   },
   "outputs": [
    {
     "data": {
      "text/plain": [
       "<torch._C.Generator at 0x7f2b50050a90>"
      ]
     },
     "execution_count": 3,
     "metadata": {},
     "output_type": "execute_result"
    }
   ],
   "source": [
    "# We set a random seed to ensure that your results are reproducible.\n",
    "if torch.cuda.is_available():\n",
    "    torch.backends.cudnn.deterministic = True\n",
    "torch.manual_seed(0)"
   ]
  },
  {
   "cell_type": "markdown",
   "metadata": {
    "colab_type": "text",
    "id": "mJ-TRHVUvr7M"
   },
   "source": [
    "##  Autoencoders"
   ]
  },
  {
   "cell_type": "markdown",
   "metadata": {
    "colab_type": "text",
    "id": "sJO4TCDevr7M"
   },
   "source": [
    "###  Input normalization: \n",
    "\n",
    "$ x_{norm} = \\frac{x-\\mu}{\\sigma} $\n",
    "\n",
    "* We enforce $\\mathbb{E}[x]$ = 0 and $Var(x) = 1$\n",
    "\n",
    "**Range**:\n",
    "* Input before normalization for MNIST dataset $\\in [0,1]$. Input after normalization $\\in [-1,1] $\n",
    "\n",
    "$ \\min{x_{norm}} = \\frac{\\min{(x)}-\\mu}{\\sigma} = \\frac{0-0.5}{0.5} = -1 $, \n",
    "$ \\max{(x_{norm})} = ... = 1 $\n",
    "\n",
    "\n",
    "* Output should span the same interval $ \\rightarrow$ Activation function of the output layer should be chosen carfeully (which one should we be using here?)\n",
    "* Denormalization needs to be done in order to visualize"
   ]
  },
  {
   "cell_type": "code",
   "execution_count": 4,
   "metadata": {
    "colab": {},
    "colab_type": "code",
    "id": "lMq0z5Skvr7N"
   },
   "outputs": [],
   "source": [
    "transform = transforms.Compose([\n",
    "     transforms.ToTensor(),\n",
    "     transforms.Normalize(mean=(0.5,), std=(0.5,))\n",
    "])\n",
    "\n",
    "def denorm_for_tanh(x):\n",
    "    x = 0.5 * (x + 1)\n",
    "    x = x.clamp(0, 1)\n",
    "    x = x.view(x.size(0), 1, 28, 28)\n",
    "    return x\n",
    "\n",
    "denorm = denorm_for_tanh\n",
    "\n",
    "train_dat = datasets.MNIST(\n",
    "    \"data/\", train=True, download=True, transform=transform\n",
    ")\n",
    "test_dat = datasets.MNIST(\"./data/\", train=False, transform=transform)"
   ]
  },
  {
   "cell_type": "markdown",
   "metadata": {
    "colab_type": "text",
    "id": "DZN90USgvr7Q"
   },
   "source": [
    "### Hyper-parameter selection"
   ]
  },
  {
   "cell_type": "code",
   "execution_count": 5,
   "metadata": {
    "colab": {},
    "colab_type": "code",
    "id": "xwUyfkmivr7R"
   },
   "outputs": [],
   "source": [
    "num_epochs = 10\n",
    "batch_size = 128\n",
    "learning_rate = 1e-3\n",
    "h_dim = 32\n",
    "latent_dim = 32"
   ]
  },
  {
   "cell_type": "markdown",
   "metadata": {
    "colab_type": "text",
    "id": "iqDl41_Pvr7U"
   },
   "source": [
    "### Define the dataloaders"
   ]
  },
  {
   "cell_type": "code",
   "execution_count": 6,
   "metadata": {
    "colab": {},
    "colab_type": "code",
    "id": "xmka_Fydvr7V"
   },
   "outputs": [],
   "source": [
    "train_loader = DataLoader(train_dat, batch_size, shuffle=True, num_workers=16)\n",
    "test_loader = DataLoader(test_dat, batch_size, shuffle=False, num_workers=16)\n",
    "\n",
    "sample_inputs, _ = next(iter(test_loader))\n",
    "fixed_input = sample_inputs[:32, :, :, :]\n",
    "\n",
    "in_dim = fixed_input.shape[-1] * fixed_input.shape[-2]\n",
    "\n",
    "save_image(fixed_input, './tutorial_AE/image_original.png')"
   ]
  },
  {
   "cell_type": "markdown",
   "metadata": {
    "colab_type": "text",
    "id": "V73E5JXYvr7Z"
   },
   "source": [
    "### Define the model\n"
   ]
  },
  {
   "cell_type": "code",
   "execution_count": 7,
   "metadata": {
    "colab": {},
    "colab_type": "code",
    "id": "UxrcoKjFvr7a"
   },
   "outputs": [],
   "source": [
    "class AE(nn.Module):\n",
    "    def __init__(self, in_dim=784, latent_dim = 32):\n",
    "        super(AE, self).__init__()\n",
    "\n",
    "\n",
    "        self.encoder = nn.Sequential(\n",
    "            nn.Linear(in_dim, latent_dim)\n",
    "        )\n",
    "\n",
    "        self.decoder = nn.Sequential(\n",
    "            nn.Linear(latent_dim, in_dim),\n",
    "            nn.Tanh()\n",
    "            )\n",
    "        \n",
    "    def encode(self, x):\n",
    "        z = self.encoder(x)\n",
    "        return z\n",
    "    \n",
    "    def decode(self, z):\n",
    "        x_recon = self.decoder(z)\n",
    "        return x_recon\n",
    "\n",
    "    def forward(self, x):\n",
    "        z = self.encode(x)\n",
    "        x_recon = self.decode(z)\n",
    "        return x_recon\n",
    "    \n",
    "AE_mnist = AE(latent_dim = latent_dim)"
   ]
  },
  {
   "cell_type": "markdown",
   "metadata": {
    "colab_type": "text",
    "id": "5BmqT30Pvr7g"
   },
   "source": [
    "### Define Loss function"
   ]
  },
  {
   "cell_type": "code",
   "execution_count": 8,
   "metadata": {
    "colab": {},
    "colab_type": "code",
    "id": "D0ThXdT8vr7h"
   },
   "outputs": [],
   "source": [
    "criterion = nn.L1Loss(reduction='sum')  # can we use any other loss here?\n",
    "def loss_function_AE(recon_x, x):\n",
    "    recon_loss = criterion(recon_x, x)/x.shape[0]\n",
    "    return recon_loss"
   ]
  },
  {
   "cell_type": "markdown",
   "metadata": {
    "colab_type": "text",
    "id": "EWU9Dwn5vr7j"
   },
   "source": [
    "### Initialize Model and print number of parameters"
   ]
  },
  {
   "cell_type": "code",
   "execution_count": 9,
   "metadata": {
    "colab": {},
    "colab_type": "code",
    "id": "lwWQVuNSvr7k",
    "outputId": "d248c679-0a48-474a-ee92-730b1bd7f485"
   },
   "outputs": [
    {
     "name": "stdout",
     "output_type": "stream",
     "text": [
      "Total number of parameters is: 50992\n",
      "AE(\n",
      "  (encoder): Sequential(\n",
      "    (0): Linear(in_features=784, out_features=32, bias=True)\n",
      "  )\n",
      "  (decoder): Sequential(\n",
      "    (0): Linear(in_features=32, out_features=784, bias=True)\n",
      "    (1): Tanh()\n",
      "  )\n",
      ")\n"
     ]
    }
   ],
   "source": [
    "model = AE_mnist.to(device)\n",
    "params = sum(p.numel() for p in model.parameters() if p.requires_grad)\n",
    "print(\"Total number of parameters is: {}\".format(params))  # can you calculate them by hand?\n",
    "print(model)"
   ]
  },
  {
   "cell_type": "markdown",
   "metadata": {
    "colab_type": "text",
    "id": "9uVXUaaHvr7p"
   },
   "source": [
    "### Choose and initialize optimizer"
   ]
  },
  {
   "cell_type": "code",
   "execution_count": 10,
   "metadata": {
    "colab": {},
    "colab_type": "code",
    "id": "vA8TLCgVvr7p"
   },
   "outputs": [],
   "source": [
    "optimizer = torch.optim.Adam(model.parameters(), lr=learning_rate)"
   ]
  },
  {
   "cell_type": "markdown",
   "metadata": {
    "colab_type": "text",
    "id": "p77Jl6hMvr7u"
   },
   "source": [
    " ### Train"
   ]
  },
  {
   "cell_type": "code",
   "execution_count": 11,
   "metadata": {
    "colab": {},
    "colab_type": "code",
    "id": "KG0CQJOovr7v",
    "outputId": "330c702d-7151-4a18-d71c-7208160b8c23",
    "scrolled": true
   },
   "outputs": [
    {
     "name": "stdout",
     "output_type": "stream",
     "text": [
      "epoch [1/10], loss:1.4093\n",
      "epoch [2/10], loss:0.8592\n",
      "epoch [3/10], loss:0.7123\n",
      "epoch [4/10], loss:0.6307\n",
      "epoch [5/10], loss:0.5579\n",
      "epoch [6/10], loss:0.5081\n",
      "epoch [7/10], loss:0.4702\n",
      "epoch [8/10], loss:0.4450\n",
      "epoch [9/10], loss:0.4252\n",
      "epoch [10/10], loss:0.4084\n"
     ]
    }
   ],
   "source": [
    "model.train()\n",
    "\n",
    "for epoch in range(num_epochs):\n",
    "    train_loss = 0\n",
    "    for batch_idx, data in enumerate(train_loader):\n",
    "        img, _ = data\n",
    "        img = img.view(img.size(0), -1)\n",
    "        img = img.to(device)\n",
    "        optimizer.zero_grad()\n",
    "        # forward\n",
    "        recon_batch = model(img)\n",
    "        loss = loss_function_AE(recon_batch, img)\n",
    "        # backward\n",
    "        loss.backward()\n",
    "        train_loss += loss.item()\n",
    "        optimizer.step()\n",
    "    # print out losses and save reconstructions for every epoch\n",
    "    print('epoch [{}/{}], loss:{:.4f}'.format(epoch + 1, num_epochs, train_loss / len(train_loader.dataset)))\n",
    "    recon = model(fixed_input.view(fixed_input.size(0), -1).to(device))\n",
    "    recon = denorm(recon.cpu())\n",
    "    save_image(recon, './tutorial_AE/reconstructed_epoch_{}.png'.format(epoch))\n",
    "    # save the model\n",
    "    torch.save(model.state_dict(), './tutorial_AE/model.pth')"
   ]
  },
  {
   "cell_type": "markdown",
   "metadata": {
    "colab_type": "text",
    "id": "JUkCPNdmvr7z"
   },
   "source": [
    "### Test"
   ]
  },
  {
   "cell_type": "code",
   "execution_count": 12,
   "metadata": {
    "colab": {},
    "colab_type": "code",
    "id": "Q0cMmatdvr7z",
    "outputId": "d9098fa4-37fd-4434-9705-26b001b4ced8",
    "scrolled": true
   },
   "outputs": [
    {
     "name": "stdout",
     "output_type": "stream",
     "text": [
      "Test set loss: 0.3971\n"
     ]
    }
   ],
   "source": [
    "# load the model\n",
    "model.load_state_dict(torch.load(\"./tutorial_AE/model.pth\"))\n",
    "model.eval()\n",
    "test_loss = 0\n",
    "with torch.no_grad():\n",
    "    for i, (img, _) in enumerate(test_loader):\n",
    "        img = img.view(img.size(0), -1)\n",
    "        img = img.to(device)\n",
    "        recon_batch = model(img)\n",
    "        test_loss += loss_function_AE(recon_batch, img)\n",
    "    # reconstruct and save the last batch\n",
    "    recon_batch = model(recon_batch.view(recon_batch.size(0), -1).to(device))\n",
    "    # save the original last batch\n",
    "    save_image(denorm(img.cpu()), './tutorial_AE/test_original.png')\n",
    "    save_image(denorm(recon_batch.cpu()), './tutorial_AE/reconstructed_test.png')\n",
    "    # loss calculated over the whole test set\n",
    "    test_loss /= len(test_loader.dataset)\n",
    "    print('Test set loss: {:.4f}'.format(test_loss))"
   ]
  },
  {
   "cell_type": "markdown",
   "metadata": {
    "colab_type": "text",
    "id": "ig1cs9D6vr73"
   },
   "source": [
    "### Visualizations"
   ]
  },
  {
   "cell_type": "code",
   "execution_count": 13,
   "metadata": {
    "colab": {},
    "colab_type": "code",
    "id": "jbnlyss6vr74",
    "outputId": "add6bd33-9619-4b34-aa57-bccd50a18245",
    "scrolled": true
   },
   "outputs": [
    {
     "data": {
      "image/png": "[encoded data removed]",
      "text/plain": [
       "<Figure size 432x288 with 1 Axes>"
      ]
     },
     "metadata": {
      "needs_background": "light"
     },
     "output_type": "display_data"
    },
    {
     "data": {
      "image/png": "[encoded data removed]",
      "text/plain": [
       "<Figure size 432x288 with 1 Axes>"
      ]
     },
     "metadata": {
      "needs_background": "light"
     },
     "output_type": "display_data"
    }
   ],
   "source": [
    "# visualize the original images of the last batch of the test set\n",
    "plt.figure()\n",
    "img = make_grid(denorm(img.cpu()), nrow=4, padding=2, normalize=False, range=None, scale_each=False, pad_value=0)\n",
    "show(img)\n",
    "\n",
    "plt.figure()\n",
    "# visualize the reconstructed images of the last batch of test set\n",
    "recon_batch_denorm = denorm(recon_batch.view(-1, 1, 28, 28).cpu())\n",
    "recon_batch_denorm = make_grid(recon_batch_denorm, nrow=4, padding=2, normalize=False, range=None, scale_each=False, pad_value=0)\n",
    "show(recon_batch_denorm)"
   ]
  },
  {
   "cell_type": "markdown",
   "metadata": {
    "colab_type": "text",
    "id": "unhVNatZvr78"
   },
   "source": [
    "## Variational Autoencoders"
   ]
  },
  {
   "cell_type": "markdown",
   "metadata": {
    "colab_type": "text",
    "id": "kccfY8cHvr8G"
   },
   "source": [
    "## Define the model\n",
    "\n",
    "### Reminder\n",
    "\n",
    "We want to maximize the probability of our training data under the model:\n",
    "\n",
    "* So, for a data sample $x_i$\n",
    "\n",
    "$ \\log{p_\\theta(\\mathbf{x_i})} \\geq \\mathbb{E}_{\\mathbf{z_i}\\sim q_\\phi(\\mathbf{z}\\mid \\mathbf{x_i})}[\\log{p_\\theta(\\mathbf{x_i}|\\mathbf{z_i})}] - D_{KL}(q_\\phi(\\mathbf{z}|\\mathbf{x_i})\\|p_\\theta(\\mathbf{z})) $\n",
    "\n",
    "* And for the entire dataset:\n",
    "\n",
    "$ \\log{\\mathbb{P}_\\theta[\\mathbf{X}]} = \\sum_i {\\log{p_\\theta(\\mathbf{x_i})}} \\geq \\sum_i \\mathbb{E}_{\\mathbf{z_i}\\sim q_\\phi(\\mathbf{z}\\mid \\mathbf{x_i})}[{\\log{p_\\theta(\\mathbf{x_i}|\\mathbf{z_i})}] - D_{KL}(q_\\phi(\\mathbf{z}|\\mathbf{x_i})\\|p_\\theta(\\mathbf{z}))} $\n",
    "\n",
    "\n",
    "* The expected values can be computed with Monte Carlo sampling. Here we assume that we sample one $\\mathbf{z_i}$ from the approximate posterior q\n",
    "\n",
    "### KL divergence (second term): \n",
    "\n",
    "If $  \\mathbf{z_i}\\sim\\mathcal{N}(0,I) $, then:\n",
    "\n",
    "$$ - D_{KL}(q_\\phi(\\mathbf{z}|\\mathbf{x_i})\\|p_\\theta(\\mathbf{z})) = \\frac{1}{2}\\sum_{j=1}^J{(1+log(\\sigma_{ij}^2)-\\mu_{ij}^2-\\sigma_{ij}^2)} $$ where $J$ the dimensionality of the latent space\n",
    "\n",
    "(prove it for homework!)\n",
    "\n",
    "1. **Encoder**:\n",
    "Input $\\mathbf{x}_i$ $\\rightarrow$ Hidden Layers $\\rightarrow$ $\\mu_{ij},  \\log(\\sigma^2_{ij}) = 2\\log(\\sigma_{ij}) \\, , \\forall j$ \n",
    "2. **Decoder**:\n",
    "$\\mu_{ij}, \\log(\\sigma_{ij}^2) \\rightarrow$ **Sample**: $z_{ij} = \\epsilon_{ij} * \\sigma_{ij}+\\mu_{ij} = \\epsilon_{ij} * e^{\\frac{1}{2}\\log(\\sigma_{ij}^2)}+\\mu_{ij} \\rightarrow$  Hidden Layers $ \\rightarrow$Output\n",
    "\n",
    "### Reconstruction log-likelihood (first term): \n",
    "\n",
    "**Important Note:** The decoder is modelling a probability distribution. Thus in the discrete case it should output probabilites, whereas in the continuous, it should output the parameters of a parametric family:\n",
    "\n",
    "\n",
    "**Example 1: binary variables**:\n",
    "\n",
    "The probabilistic decoder predicts the probability of a sample being equal to 1.\n",
    "\n",
    "$$\\text{(1D case): } \\sum_i\\log{p(x_i|z_i;\\theta)}=\\sum_i\\log{\\mathcal{Be}(f(z_i))}$$\n",
    "\n",
    "Thus, we are minimizing:\n",
    "\n",
    "$\\sum_i(x_i\\log{f(z_i)}+(1-x_i)\\log{(1-f(z_i))})$, where $x\\in\\{0,1\\}$ : **Binary cross entropy**\n",
    "\n",
    "**Example 2: continuous variables under gaussianity assumptions**:\n",
    "\n",
    "The probabilistic decoder predicts the mean and the variance of the gaussian.\n",
    "\n",
    " $$\\text{(1D case): } \\sum_i\\log{p(x_i|z_i;\\theta)}=\\sum_i\\log{\\mathcal{N}(\\mu_i,\\sigma_i^2)}= \n",
    "\\sum_i(-\\frac{(x_i-\\mu_i)^2}{2\\sigma_i^2} - \\frac{1}{2}\\log{2\\pi \\sigma_i^2})$$\n",
    "\n",
    "Usually we omit the prediction of the variance and predict only the mean. Thus, we are minimizing:\n",
    "\n",
    "$\\sum_i(x_i-\\mu_i)^2 = \\sum_i(x_i-f(z_i))^2$ : **Mean Squared Error**\n",
    "\n",
    "\n",
    "\n",
    "### Additional remarks: \n",
    "\n",
    "1. When we do batch training the loss should be the average loss of the samples of the batch\n",
    "\n",
    "2. It is common to use a parameter $\\beta$ as a weighting coefficient to balance the two terms of the loss:\n",
    "\n",
    "$ \\mathcal{L} = \\sum_i \\frac{1}{M} \\big( \\mathbb{E}_{\\mathbf{z_i}\\sim q_\\phi(\\mathbf{z}\\mid \\mathbf{x_i})}[{\\log{p_\\theta(\\mathbf{x_i}|\\mathbf{z_i})}] - \\beta D_{KL}(q_\\phi(\\mathbf{z}|\\mathbf{x_i})\\|p_\\theta(\\mathbf{z}))\\big)} $"
   ]
  },
  {
   "cell_type": "code",
   "execution_count": null,
   "metadata": {},
   "outputs": [],
   "source": []
  }
 ],
 "metadata": {
  "accelerator": "GPU",
  "colab": {
   "collapsed_sections": [],
   "name": "tutorial4.ipynb",
   "provenance": []
  },
  "kernelspec": {
   "display_name": "Python 3",
   "language": "python",
   "name": "python3"
  },
  "language_info": {
   "codemirror_mode": {
    "name": "ipython",
    "version": 3
   },
   "file_extension": ".py",
   "mimetype": "text/x-python",
   "name": "python",
   "nbconvert_exporter": "python",
   "pygments_lexer": "ipython3",
   "version": "3.7.4"
  }
 },
 "nbformat": 4,
 "nbformat_minor": 1
}
